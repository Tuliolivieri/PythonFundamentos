{
 "cells": [
  {
   "cell_type": "markdown",
   "metadata": {},
   "source": [
    "# <font color='blue'>Data Science Academy - Python Fundamentos - Capítulo 3</font>\n",
    "\n",
    "## Download: http://github.com/dsacademybr"
   ]
  },
  {
   "cell_type": "code",
   "execution_count": null,
   "metadata": {},
   "outputs": [],
   "source": [
    "# Versão da Linguagem Python\n",
    "from platform import python_version\n",
    "print('Versão da Linguagem Python Usada Neste Jupyter Notebook:', python_version())"
   ]
  },
  {
   "cell_type": "markdown",
   "metadata": {},
   "source": [
    "## Exercícios - Loops e Condiconais"
   ]
  },
  {
   "cell_type": "code",
   "execution_count": null,
   "metadata": {},
   "outputs": [],
   "source": [
    "# Exercício 1 - Crie uma estrutura que pergunte ao usuário qual o dia da semana. Se o dia for igual a Domingo ou \n",
    "# igual a sábado, imprima na tela \"Hoje é dia de descanso\", caso contrário imprima na tela \"Você precisa trabalhar!\"\n",
    "day = input('Qual o dia da semana?')\n",
    "\n",
    "if day.lower() == 'sabado' or day.lower() == 'domingo':\n",
    "    print(\"Hoje é dia de descanso\")\n",
    "else:\n",
    "    print(\"Você precisa trabalhar!\")"
   ]
  },
  {
   "cell_type": "code",
   "execution_count": null,
   "metadata": {},
   "outputs": [],
   "source": [
    "# Exercício 2 - Crie uma lista de 5 frutas e verifique se a fruta 'Morango' faz parte da lista\n",
    "fruits = ['Uva', 'Maçã', 'Banana', 'Morango', 'Laranja']\n",
    "\n",
    "if('Morango' in fruits):\n",
    "    print('Morango está na lista!')\n",
    "else:\n",
    "    print('Morango não está na lista!')"
   ]
  },
  {
   "cell_type": "code",
   "execution_count": null,
   "metadata": {},
   "outputs": [],
   "source": [
    "# Exercício 3 - Crie uma tupla de 4 elementos, multiplique cada elemento da tupla por 2 e guarde os resultados em uma \n",
    "# lista\n",
    "\n",
    "my_tuple = (1, 2, 3, 4)\n",
    "my_list = [item * 2 for item in my_tuple]\n",
    "print(my_list)"
   ]
  },
  {
   "cell_type": "code",
   "execution_count": null,
   "metadata": {},
   "outputs": [],
   "source": [
    "# Exercício 4 - Crie uma sequência de números pares entre 100 e 150 e imprima na tela\n",
    "\n",
    "even_numbers = [number for number in range(100, 151) if number % 2 == 0]\n",
    "print(even_numbers)"
   ]
  },
  {
   "cell_type": "code",
   "execution_count": null,
   "metadata": {},
   "outputs": [],
   "source": [
    "# Exercício 5 - Crie uma variável chamada temperatura e atribua o valor 40. Enquanto temperatura for maior que 35, \n",
    "# imprima as temperaturas na tela\n",
    "\n",
    "temperature = 40\n",
    "\n",
    "while temperature > 35:\n",
    "    print(temperature)\n",
    "    temperature -= 1\n"
   ]
  },
  {
   "cell_type": "code",
   "execution_count": null,
   "metadata": {},
   "outputs": [],
   "source": [
    "# Exercício 6 - Crie uma variável chamada contador = 0. Enquanto counter for menor que 100, imprima os valores na tela,\n",
    "# mas quando for encontrado o valor 23, interrompa a execução do programa\n",
    "\n",
    "counter = 0\n",
    "\n",
    "while counter < 100:\n",
    "    print(counter)\n",
    "    if counter == 23:\n",
    "        break\n",
    "    counter += 1"
   ]
  },
  {
   "cell_type": "code",
   "execution_count": null,
   "metadata": {},
   "outputs": [],
   "source": [
    "# Exercício 7 - Crie uma lista vazia e uma variável com valor 4. Enquanto o valor da variável for menor ou igual a 20, \n",
    "# adicione à lista, apenas os valores pares e imprima a lista\n",
    "\n",
    "var = 4\n",
    "my_list = []\n",
    "\n",
    "while var <= 20:\n",
    "    if var % 2 == 0:\n",
    "        my_list.append(var)\n",
    "    var += 1\n",
    "\n",
    "print(my_list)"
   ]
  },
  {
   "cell_type": "code",
   "execution_count": null,
   "metadata": {},
   "outputs": [],
   "source": [
    "# Exercício 8 - Transforme o resultado desta função range em uma lista: range(5, 45, 2)\n",
    "nums = range(5, 45, 2)\n",
    "\n",
    "my_list = [num for num in nums]\n",
    "\n",
    "print(my_list)"
   ]
  },
  {
   "cell_type": "code",
   "execution_count": null,
   "metadata": {},
   "outputs": [],
   "source": [
    "# Exercício 9 - Faça a correção dos erros no código abaixo e execute o programa. Dica: são 3 erros.\n",
    "temperatura = float(input('Qual a temperatura? '))\n",
    "if temperatura > 30:\n",
    "    print('Vista roupas leves.')\n",
    "else:\n",
    "    print('Busque seus casacos.')"
   ]
  },
  {
   "cell_type": "code",
   "execution_count": null,
   "metadata": {},
   "outputs": [],
   "source": [
    "# Exercício 10 - Faça um programa que conte quantas vezes a letra \"r\" aparece na frase abaixo. Use um placeholder na \n",
    "# sua instrução de impressão\n",
    "\n",
    "# “É melhor, muito melhor, contentar-se com a realidade; se ela não é tão brilhante como os sonhos, tem pelo menos a \n",
    "# vantagem de existir.” (Machado de Assis)\n",
    "\n",
    "frase = \"É melhor, muito melhor, contentar-se com a realidade; se ela não é tão brilhante como os sonhos, tem pelo menos a vantagem de existir.\" \n",
    "\n",
    "print('r aparece %r vezes!' %(frase.count('r')))\n",
    "\n"
   ]
  },
  {
   "cell_type": "markdown",
   "metadata": {},
   "source": [
    "# Fim"
   ]
  },
  {
   "cell_type": "markdown",
   "metadata": {},
   "source": [
    "### Obrigado\n",
    "\n",
    "### Visite o Blog da Data Science Academy - <a href=\"http://blog.dsacademy.com.br\">Blog DSA</a>"
   ]
  }
 ],
 "metadata": {
  "kernelspec": {
   "display_name": "Python 3 (ipykernel)",
   "language": "python",
   "name": "python3"
  },
  "language_info": {
   "codemirror_mode": {
    "name": "ipython",
    "version": 3
   },
   "file_extension": ".py",
   "mimetype": "text/x-python",
   "name": "python",
   "nbconvert_exporter": "python",
   "pygments_lexer": "ipython3",
   "version": "3.9.7"
  }
 },
 "nbformat": 4,
 "nbformat_minor": 1
}
