{
 "cells": [
  {
   "cell_type": "markdown",
   "metadata": {},
   "source": [
    "# <font color='blue'>Data Science Academy - Python Fundamentos - Capítulo 5</font>\n",
    "\n",
    "## Download: http://github.com/dsacademybr"
   ]
  },
  {
   "cell_type": "code",
   "execution_count": 1,
   "metadata": {},
   "outputs": [
    {
     "name": "stdout",
     "output_type": "stream",
     "text": [
      "Versão da Linguagem Python Usada Neste Jupyter Notebook: 3.8.8\n"
     ]
    }
   ],
   "source": [
    "# Versão da Linguagem Python\n",
    "from platform import python_version\n",
    "print('Versão da Linguagem Python Usada Neste Jupyter Notebook:', python_version())"
   ]
  },
  {
   "cell_type": "markdown",
   "metadata": {},
   "source": [
    "## Exercícios"
   ]
  },
  {
   "cell_type": "code",
   "execution_count": 3,
   "metadata": {},
   "outputs": [
    {
     "name": "stdout",
     "output_type": "stream",
     "text": [
      "50\n",
      "50\n",
      "75 85\n"
     ]
    }
   ],
   "source": [
    "# Exercício 1 - Crie um objeto a partir da classe abaixo, chamado roc1, passando 2 parâmetros e depois faça uma chamada\n",
    "# aos atributos e métodos\n",
    "from math import sqrt\n",
    "\n",
    "class Rocket():\n",
    "     \n",
    "    def __init__(self, x=0, y=0):\n",
    "        self.x = x\n",
    "        self.y = y\n",
    "        \n",
    "    def move_rocket(self, x_increment=0, y_increment=1):\n",
    "        self.x += x_increment\n",
    "        self.y += y_increment\n",
    "        \n",
    "    def print_rocket(self):\n",
    "        print(self.x, self.y)\n",
    "\n",
    "\n",
    "roc1 = Rocket(50, 50)\n",
    "print(roc1.x)\n",
    "print(roc1.y)\n",
    "roc1.move_rocket(25, 35)\n",
    "roc1.print_rocket()"
   ]
  },
  {
   "cell_type": "code",
   "execution_count": 5,
   "metadata": {},
   "outputs": [
    {
     "name": "stdout",
     "output_type": "stream",
     "text": [
      "Nome: Tulio Olivieri, Cidade: Regente Feijó, Telefone: 5518999999999, Email: tuliolivieri@gmail.com\n"
     ]
    }
   ],
   "source": [
    "# Exercício 2 - Crie uma classe chamada Pessoa() com os atributos: nome, cidade, telefone e e-mail. Use pelo menos 2\n",
    "# métodos especiais na sua classe. Crie um objeto da sua classe e faça uma chamada a pelo menos um dos seus métodos\n",
    "# especiais.\n",
    "\n",
    "class Pessoa:\n",
    "    def __init__(self, nome='', cidade='', telefone='', email=''):\n",
    "        self.__nome = nome\n",
    "        self.__cidade = cidade\n",
    "        self.__telefone = telefone\n",
    "        self.__email = email\n",
    "\n",
    "    def __str__(self):\n",
    "        return (\n",
    "            'Nome: ' + self.__nome +\n",
    "            ', Cidade: ' + self.__cidade +\n",
    "            ', Telefone: ' + self.__telefone +\n",
    "            ', Email: ' + self.__email\n",
    "        )\n",
    "    \n",
    "pessoa = Pessoa('Tulio Olivieri', 'Regente Feijó', '5518999999999', 'tuliolivieri@gmail.com')\n",
    "print(pessoa)"
   ]
  },
  {
   "cell_type": "code",
   "execution_count": 16,
   "metadata": {},
   "outputs": [
    {
     "name": "stdout",
     "output_type": "stream",
     "text": [
      "16 Médio 6 pol. Super Amoled\n"
     ]
    }
   ],
   "source": [
    "# Exercício 3 - Crie a classe Smartphone com 2 atributos, tamanho e interface e crie a classe MP3Player com os \n",
    "# atributos capacidade. A classe MP3player deve herdar os atributos da classe Smartphone.\n",
    "\n",
    "class Smartphone:\n",
    "    def __init__(self, tamanho='', interface=''):\n",
    "        self.tamanho = tamanho\n",
    "        self.interface = interface\n",
    "        \n",
    "class MP3Player(Smartphone):\n",
    "    def __init__(self, capacidade=0, tamanho='', interface=''):\n",
    "        self.capacidade = capacidade\n",
    "        Smartphone.__init__(self, tamanho, interface)\n",
    "        \n",
    "mp3 = MP3Player(16, 'Médio', '6 pol. Super Amoled')\n",
    "print(mp3.capacidade, mp3.tamanho, mp3.interface)\n"
   ]
  },
  {
   "cell_type": "markdown",
   "metadata": {},
   "source": [
    "### FIM"
   ]
  },
  {
   "cell_type": "markdown",
   "metadata": {},
   "source": [
    "### Obrigado\n",
    "\n",
    "### Visite o Blog da Data Science Academy - <a href=\"http://blog.dsacademy.com.br\">Blog DSA</a>"
   ]
  }
 ],
 "metadata": {
  "kernelspec": {
   "display_name": "Python 3 (ipykernel)",
   "language": "python",
   "name": "python3"
  },
  "language_info": {
   "codemirror_mode": {
    "name": "ipython",
    "version": 3
   },
   "file_extension": ".py",
   "mimetype": "text/x-python",
   "name": "python",
   "nbconvert_exporter": "python",
   "pygments_lexer": "ipython3",
   "version": "3.9.7"
  }
 },
 "nbformat": 4,
 "nbformat_minor": 1
}
